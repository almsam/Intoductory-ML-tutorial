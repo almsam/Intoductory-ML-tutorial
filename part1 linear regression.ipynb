{
 "cells": [
  {
   "cell_type": "markdown",
   "metadata": {},
   "source": [
    "\n",
    "# **DATA 311 UBCO, Regression implemented in Python**\n",
    "\n",
    "## **Assignment 1, Linear Regression:**\n",
    "\n",
    "### **Single Linear Regression:**"
   ]
  },
  {
   "cell_type": "code",
   "execution_count": 1,
   "metadata": {},
   "outputs": [
    {
     "data": {
      "text/html": [
       "<div>\n",
       "<style scoped>\n",
       "    .dataframe tbody tr th:only-of-type {\n",
       "        vertical-align: middle;\n",
       "    }\n",
       "\n",
       "    .dataframe tbody tr th {\n",
       "        vertical-align: top;\n",
       "    }\n",
       "\n",
       "    .dataframe thead th {\n",
       "        text-align: right;\n",
       "    }\n",
       "</style>\n",
       "<table border=\"1\" class=\"dataframe\">\n",
       "  <thead>\n",
       "    <tr style=\"text-align: right;\">\n",
       "      <th></th>\n",
       "      <th>rownames</th>\n",
       "      <th>case</th>\n",
       "      <th>site</th>\n",
       "      <th>Pop</th>\n",
       "      <th>sex</th>\n",
       "      <th>age</th>\n",
       "      <th>hdlngth</th>\n",
       "      <th>skullw</th>\n",
       "      <th>totlngth</th>\n",
       "      <th>taill</th>\n",
       "      <th>footlgth</th>\n",
       "      <th>earconch</th>\n",
       "      <th>eye</th>\n",
       "      <th>chest</th>\n",
       "      <th>belly</th>\n",
       "    </tr>\n",
       "  </thead>\n",
       "  <tbody>\n",
       "    <tr>\n",
       "      <th>0</th>\n",
       "      <td>C3</td>\n",
       "      <td>1</td>\n",
       "      <td>1</td>\n",
       "      <td>Vic</td>\n",
       "      <td>m</td>\n",
       "      <td>8.0</td>\n",
       "      <td>94.1</td>\n",
       "      <td>60.4</td>\n",
       "      <td>89.0</td>\n",
       "      <td>36.0</td>\n",
       "      <td>74.5</td>\n",
       "      <td>54.5</td>\n",
       "      <td>15.2</td>\n",
       "      <td>28.0</td>\n",
       "      <td>36.0</td>\n",
       "    </tr>\n",
       "    <tr>\n",
       "      <th>1</th>\n",
       "      <td>C5</td>\n",
       "      <td>2</td>\n",
       "      <td>1</td>\n",
       "      <td>Vic</td>\n",
       "      <td>f</td>\n",
       "      <td>6.0</td>\n",
       "      <td>92.5</td>\n",
       "      <td>57.6</td>\n",
       "      <td>91.5</td>\n",
       "      <td>36.5</td>\n",
       "      <td>72.5</td>\n",
       "      <td>51.2</td>\n",
       "      <td>16.0</td>\n",
       "      <td>28.5</td>\n",
       "      <td>33.0</td>\n",
       "    </tr>\n",
       "    <tr>\n",
       "      <th>2</th>\n",
       "      <td>C10</td>\n",
       "      <td>3</td>\n",
       "      <td>1</td>\n",
       "      <td>Vic</td>\n",
       "      <td>f</td>\n",
       "      <td>6.0</td>\n",
       "      <td>94.0</td>\n",
       "      <td>60.0</td>\n",
       "      <td>95.5</td>\n",
       "      <td>39.0</td>\n",
       "      <td>75.4</td>\n",
       "      <td>51.9</td>\n",
       "      <td>15.5</td>\n",
       "      <td>30.0</td>\n",
       "      <td>34.0</td>\n",
       "    </tr>\n",
       "    <tr>\n",
       "      <th>3</th>\n",
       "      <td>C15</td>\n",
       "      <td>4</td>\n",
       "      <td>1</td>\n",
       "      <td>Vic</td>\n",
       "      <td>f</td>\n",
       "      <td>6.0</td>\n",
       "      <td>93.2</td>\n",
       "      <td>57.1</td>\n",
       "      <td>92.0</td>\n",
       "      <td>38.0</td>\n",
       "      <td>76.1</td>\n",
       "      <td>52.2</td>\n",
       "      <td>15.2</td>\n",
       "      <td>28.0</td>\n",
       "      <td>34.0</td>\n",
       "    </tr>\n",
       "    <tr>\n",
       "      <th>4</th>\n",
       "      <td>C23</td>\n",
       "      <td>5</td>\n",
       "      <td>1</td>\n",
       "      <td>Vic</td>\n",
       "      <td>f</td>\n",
       "      <td>2.0</td>\n",
       "      <td>91.5</td>\n",
       "      <td>56.3</td>\n",
       "      <td>85.5</td>\n",
       "      <td>36.0</td>\n",
       "      <td>71.0</td>\n",
       "      <td>53.2</td>\n",
       "      <td>15.1</td>\n",
       "      <td>28.5</td>\n",
       "      <td>33.0</td>\n",
       "    </tr>\n",
       "    <tr>\n",
       "      <th>5</th>\n",
       "      <td>C24</td>\n",
       "      <td>6</td>\n",
       "      <td>1</td>\n",
       "      <td>Vic</td>\n",
       "      <td>f</td>\n",
       "      <td>1.0</td>\n",
       "      <td>93.1</td>\n",
       "      <td>54.8</td>\n",
       "      <td>90.5</td>\n",
       "      <td>35.5</td>\n",
       "      <td>73.2</td>\n",
       "      <td>53.6</td>\n",
       "      <td>14.2</td>\n",
       "      <td>30.0</td>\n",
       "      <td>32.0</td>\n",
       "    </tr>\n",
       "    <tr>\n",
       "      <th>6</th>\n",
       "      <td>C26</td>\n",
       "      <td>7</td>\n",
       "      <td>1</td>\n",
       "      <td>Vic</td>\n",
       "      <td>m</td>\n",
       "      <td>2.0</td>\n",
       "      <td>95.3</td>\n",
       "      <td>58.2</td>\n",
       "      <td>89.5</td>\n",
       "      <td>36.0</td>\n",
       "      <td>71.5</td>\n",
       "      <td>52.0</td>\n",
       "      <td>14.2</td>\n",
       "      <td>30.0</td>\n",
       "      <td>34.5</td>\n",
       "    </tr>\n",
       "    <tr>\n",
       "      <th>7</th>\n",
       "      <td>C27</td>\n",
       "      <td>8</td>\n",
       "      <td>1</td>\n",
       "      <td>Vic</td>\n",
       "      <td>f</td>\n",
       "      <td>6.0</td>\n",
       "      <td>94.8</td>\n",
       "      <td>57.6</td>\n",
       "      <td>91.0</td>\n",
       "      <td>37.0</td>\n",
       "      <td>72.7</td>\n",
       "      <td>53.9</td>\n",
       "      <td>14.5</td>\n",
       "      <td>29.0</td>\n",
       "      <td>34.0</td>\n",
       "    </tr>\n",
       "    <tr>\n",
       "      <th>8</th>\n",
       "      <td>C28</td>\n",
       "      <td>9</td>\n",
       "      <td>1</td>\n",
       "      <td>Vic</td>\n",
       "      <td>f</td>\n",
       "      <td>9.0</td>\n",
       "      <td>93.4</td>\n",
       "      <td>56.3</td>\n",
       "      <td>91.5</td>\n",
       "      <td>37.0</td>\n",
       "      <td>72.4</td>\n",
       "      <td>52.9</td>\n",
       "      <td>15.5</td>\n",
       "      <td>28.0</td>\n",
       "      <td>33.0</td>\n",
       "    </tr>\n",
       "    <tr>\n",
       "      <th>9</th>\n",
       "      <td>C31</td>\n",
       "      <td>10</td>\n",
       "      <td>1</td>\n",
       "      <td>Vic</td>\n",
       "      <td>f</td>\n",
       "      <td>6.0</td>\n",
       "      <td>91.8</td>\n",
       "      <td>58.0</td>\n",
       "      <td>89.5</td>\n",
       "      <td>37.5</td>\n",
       "      <td>70.9</td>\n",
       "      <td>53.4</td>\n",
       "      <td>14.4</td>\n",
       "      <td>27.5</td>\n",
       "      <td>32.0</td>\n",
       "    </tr>\n",
       "  </tbody>\n",
       "</table>\n",
       "</div>"
      ],
      "text/plain": [
       "  rownames  case  site  Pop sex  age  hdlngth  skullw  totlngth  taill  \\\n",
       "0       C3     1     1  Vic   m  8.0     94.1    60.4      89.0   36.0   \n",
       "1       C5     2     1  Vic   f  6.0     92.5    57.6      91.5   36.5   \n",
       "2      C10     3     1  Vic   f  6.0     94.0    60.0      95.5   39.0   \n",
       "3      C15     4     1  Vic   f  6.0     93.2    57.1      92.0   38.0   \n",
       "4      C23     5     1  Vic   f  2.0     91.5    56.3      85.5   36.0   \n",
       "5      C24     6     1  Vic   f  1.0     93.1    54.8      90.5   35.5   \n",
       "6      C26     7     1  Vic   m  2.0     95.3    58.2      89.5   36.0   \n",
       "7      C27     8     1  Vic   f  6.0     94.8    57.6      91.0   37.0   \n",
       "8      C28     9     1  Vic   f  9.0     93.4    56.3      91.5   37.0   \n",
       "9      C31    10     1  Vic   f  6.0     91.8    58.0      89.5   37.5   \n",
       "\n",
       "   footlgth  earconch   eye  chest  belly  \n",
       "0      74.5      54.5  15.2   28.0   36.0  \n",
       "1      72.5      51.2  16.0   28.5   33.0  \n",
       "2      75.4      51.9  15.5   30.0   34.0  \n",
       "3      76.1      52.2  15.2   28.0   34.0  \n",
       "4      71.0      53.2  15.1   28.5   33.0  \n",
       "5      73.2      53.6  14.2   30.0   32.0  \n",
       "6      71.5      52.0  14.2   30.0   34.5  \n",
       "7      72.7      53.9  14.5   29.0   34.0  \n",
       "8      72.4      52.9  15.5   28.0   33.0  \n",
       "9      70.9      53.4  14.4   27.5   32.0  "
      ]
     },
     "execution_count": 1,
     "metadata": {},
     "output_type": "execute_result"
    }
   ],
   "source": [
    "##decleration & data\n",
    "\n",
    "import pandas as pd\n",
    "import numpy as np\n",
    "import seaborn as sns\n",
    "import statsmodels.api as sm\n",
    "import statsmodels.formula.api as smf\n",
    "\n",
    "df = pd.read_csv('possum.csv')\n",
    "df.head(10)"
   ]
  },
  {
   "cell_type": "code",
   "execution_count": null,
   "metadata": {},
   "outputs": [],
   "source": [
    "df.describe()"
   ]
  },
  {
   "cell_type": "code",
   "execution_count": null,
   "metadata": {},
   "outputs": [],
   "source": [
    "df = df.dropna()\n",
    "\n",
    "df.describe()"
   ]
  },
  {
   "cell_type": "markdown",
   "metadata": {},
   "source": [
    "### **First we split the data into a training & testing set:**"
   ]
  },
  {
   "cell_type": "code",
   "execution_count": 153,
   "metadata": {},
   "outputs": [
    {
     "data": {
      "text/plain": [
       "Index(['rownames', 'case', 'site', 'Pop', 'sex', 'age', 'hdlngth', 'skullw',\n",
       "       'totlngth', 'taill', 'footlgth', 'earconch', 'eye', 'chest', 'belly'],\n",
       "      dtype='object')"
      ]
     },
     "execution_count": 153,
     "metadata": {},
     "output_type": "execute_result"
    }
   ],
   "source": [
    "n = df.shape[0]\n",
    "i = np.random.permutation(n)\n",
    "\n",
    "train_size = round(0.6*n)\n",
    "test_size = n - train_size\n",
    "\n",
    "train = i[:train_size]\n",
    "test = i[:test_size]\n",
    "\n",
    "training_data = df.iloc[train]\n",
    "testing_data = df.iloc[test]\n",
    "\n",
    "training_data.columns\n"
   ]
  },
  {
   "cell_type": "markdown",
   "metadata": {},
   "source": [
    "\n",
    "### **Now we implement the Single Linear Regression (SLR):**\n",
    "\n",
    "    to train a single linear regression using lm(), you use sm.OLS().fit()\n",
    "\n",
    "    for lm(y ~ x) when x is numeric, you use sm.OLS(y, sm.add_constant(x)).fit(), or sm.OLS(data[head length], sm.add_constant(body size)).fit()\n",
    "\n",
    "    & for lm(y ~ x) when x is categorical, you use smf.ols(formula='y ~ C(training_data[x])', data=training_data).fit()\n"
   ]
  },
  {
   "cell_type": "code",
   "execution_count": 154,
   "metadata": {},
   "outputs": [],
   "source": [
    "\n",
    "Models = []\n",
    "\n",
    "# numeric\n",
    "Models.append(sm.OLS(training_data['hdlngth'], sm.add_constant(training_data[training_data.columns[1 ]])).fit())\n",
    "Models.append(sm.OLS(training_data['hdlngth'], sm.add_constant(training_data[training_data.columns[2 ]])).fit())\n",
    "Models.append(sm.OLS(training_data['hdlngth'], sm.add_constant(training_data[training_data.columns[5 ]])).fit())\n",
    "Models.append(sm.OLS(training_data['hdlngth'], sm.add_constant(training_data[training_data.columns[6 ]])).fit())\n",
    "Models.append(sm.OLS(training_data['hdlngth'], sm.add_constant(training_data[training_data.columns[7 ]])).fit())\n",
    "Models.append(sm.OLS(training_data['hdlngth'], sm.add_constant(training_data[training_data.columns[8 ]])).fit())\n",
    "Models.append(sm.OLS(training_data['hdlngth'], sm.add_constant(training_data[training_data.columns[9 ]])).fit())\n",
    "Models.append(sm.OLS(training_data['hdlngth'], sm.add_constant(training_data[training_data.columns[10]])).fit())\n",
    "Models.append(sm.OLS(training_data['hdlngth'], sm.add_constant(training_data[training_data.columns[11]])).fit())\n",
    "Models.append(sm.OLS(training_data['hdlngth'], sm.add_constant(training_data[training_data.columns[12]])).fit())\n",
    "Models.append(sm.OLS(training_data['hdlngth'], sm.add_constant(training_data[training_data.columns[13]])).fit())\n",
    "Models.append(sm.OLS(training_data['hdlngth'], sm.add_constant(training_data[training_data.columns[14]])).fit())\n",
    "\n",
    "# categorical\n",
    "Models.append(smf.ols(formula='hdlngth ~ C(training_data[training_data.columns[3]])', data=training_data).fit())\n",
    "Models.append(smf.ols(formula='hdlngth ~ C(training_data[training_data.columns[4]])', data=training_data).fit())\n",
    "\n",
    "# Models.append(sm.OLS(training_data['hdlngth'], sm.add_constant(training_data[training_data.columns[4]])).fit())"
   ]
  },
  {
   "cell_type": "markdown",
   "metadata": {},
   "source": [
    "    you can use .summary() or  .summary2() to gather info on the linear regression"
   ]
  },
  {
   "cell_type": "code",
   "execution_count": null,
   "metadata": {},
   "outputs": [],
   "source": [
    "Models[0].summary2() #numerical"
   ]
  },
  {
   "cell_type": "code",
   "execution_count": null,
   "metadata": {},
   "outputs": [],
   "source": [
    "Models[-1].summary2() #categorical"
   ]
  },
  {
   "cell_type": "markdown",
   "metadata": {},
   "source": [
    "    you can also use .params() to directly get the slope & intercept"
   ]
  },
  {
   "cell_type": "code",
   "execution_count": null,
   "metadata": {},
   "outputs": [],
   "source": [
    "Models[0].params #numerical\n",
    "\n",
    "a = float(Models[0].params[0]); b = float(Models[0].params[1])\n",
    "print(\"Intercept: \\t\", a, \"\\nslope: \\t\\t\", b)\n",
    "# this is how you cast the values from a RegressionResult object onto float"
   ]
  },
  {
   "cell_type": "code",
   "execution_count": null,
   "metadata": {},
   "outputs": [],
   "source": [
    "Models[-1].params #categorical\n",
    "\n",
    "a = float(Models[-1].params[0]); b = float(Models[-1].params[1])\n",
    "print(\"Intercept: \\t\", a, \"\\nslope: \\t\\t\", b)\n",
    "# this is how you cast the values from a RegressionResult object onto float"
   ]
  },
  {
   "cell_type": "markdown",
   "metadata": {},
   "source": [
    "### **Now we print the R-squared for each to figure out which is best:**"
   ]
  },
  {
   "cell_type": "code",
   "execution_count": 155,
   "metadata": {},
   "outputs": [
    {
     "name": "stdout",
     "output_type": "stream",
     "text": [
      "R-squared values of the model trained with each variable:\n",
      "\n",
      "Numerical:\n",
      "\t case \t  :  0.08138203778618525\n",
      "\t site \t  :  0.08251472761604683\n",
      "\t age \t  :  0.09644255725223239\n",
      "\t hdlngth  :  1.0\n",
      "\t skullw   :  0.47291513578291156\n",
      "\t totlngth :  0.498003436731588\n",
      "\t taill \t  :  0.12769684573074302\n",
      "\t footlgth :  0.27397876670349064\n",
      "\t earconch :  0.04323505511115666\n",
      "\t eye \t  :  0.08747003198084025\n",
      "\t chest \t  :  0.4364605358924819\n",
      "\t belly \t  :  0.25641818814680883\n",
      "\n",
      "Categorical:\n",
      "\t Pop \t  :  0.014359291025788479\n",
      "\t sex \t  :  0.0002586461790178296\n"
     ]
    }
   ],
   "source": [
    "print(\"R-squared values of the model trained with each variable:\")\n",
    "\n",
    "print(\"\"); print(\"Numerical:\")\n",
    "print(\"\\t\", training_data.columns[1 ], \"\\t  : \", Models[0 ].rsquared)\n",
    "print(\"\\t\", training_data.columns[2 ], \"\\t  : \", Models[1 ].rsquared)\n",
    "print(\"\\t\", training_data.columns[5 ], \"\\t  : \", Models[2 ].rsquared)\n",
    "print(\"\\t\", training_data.columns[6 ], \" : \",    Models[3 ].rsquared)\n",
    "print(\"\\t\", training_data.columns[7 ], \"  : \",   Models[4 ].rsquared)\n",
    "print(\"\\t\", training_data.columns[8 ], \": \",     Models[5 ].rsquared)\n",
    "print(\"\\t\", training_data.columns[9 ], \"\\t  : \", Models[6 ].rsquared)\n",
    "print(\"\\t\", training_data.columns[10], \": \",     Models[7 ].rsquared)\n",
    "print(\"\\t\", training_data.columns[11], \": \",     Models[8 ].rsquared)\n",
    "print(\"\\t\", training_data.columns[12], \"\\t  : \", Models[9 ].rsquared)\n",
    "print(\"\\t\", training_data.columns[13], \"\\t  : \", Models[10].rsquared)\n",
    "print(\"\\t\", training_data.columns[14], \"\\t  : \", Models[11].rsquared)\n",
    "\n",
    "print(\"\"); print(\"Categorical:\")\n",
    "print(\"\\t\", training_data.columns[3 ], \"\\t  : \", Models[12].rsquared)\n",
    "print(\"\\t\", training_data.columns[4 ], \"\\t  : \", Models[13].rsquared)\n"
   ]
  },
  {
   "cell_type": "markdown",
   "metadata": {},
   "source": [
    "do keep in mind the different R-squared values comes from different implementations & optimization cases of the linear regression algorithm, as well as the difference in data aggregated during training vs testing (since I avoided implemnting Numpy seeds)\n",
    "\n",
    "\n",
    "### **Next we predict the results given the testing data:**"
   ]
  },
  {
   "cell_type": "code",
   "execution_count": null,
   "metadata": {},
   "outputs": [],
   "source": [
    "\n",
    "skullqwModel = Models[4]\n",
    "\n",
    "X_test = testing_data['skullw']\n",
    "X_test = sm.add_constant(X_test)\n",
    "pred = skullqwModel.predict(X_test)[:40]\n",
    "\n",
    "# pred = skullqwModel.predict(training_data[['skullw']])\n",
    "\n",
    "# for t in testing_data['age'].index:\\n\",    # print(testing_data['age'][int(t)])\\n\",\n",
    "# print(testing_data['skullw'])#, testing_data['hdlngth']) # testing_data.head\n",
    "\n",
    "predF = pd.DataFrame({'Predicted hdlngth': pred, 'Actual hdlngth':testing_data['hdlngth'][:40], 'Skull Width': testing_data['skullw'][:40]})\n",
    "\n",
    "predF"
   ]
  },
  {
   "cell_type": "markdown",
   "metadata": {},
   "source": [
    "### **Then find the MSE:**"
   ]
  },
  {
   "cell_type": "code",
   "execution_count": 159,
   "metadata": {},
   "outputs": [
    {
     "name": "stdout",
     "output_type": "stream",
     "text": [
      "Average Error:  0.24770942758749753 \t Mean Squared Error:  4.745888897318872\n"
     ]
    }
   ],
   "source": [
    "me  =  (testing_data['hdlngth'][:40] - pred).mean()\n",
    "mse = ((testing_data['hdlngth'][:40] - pred) ** 2).mean()\n",
    "\n",
    "print(\"Average Error: \", me, \"\\t Mean Squared Error: \", mse)"
   ]
  },
  {
   "cell_type": "markdown",
   "metadata": {},
   "source": [
    "### **Multi Linear Regression:**\n",
    "\n",
    "    for the MLR lm(y ~ x1 + x2), you use smf.ols(formula='y ~ x1 + x2', data=training_data).fit()"
   ]
  },
  {
   "cell_type": "code",
   "execution_count": 149,
   "metadata": {},
   "outputs": [
    {
     "data": {
      "text/plain": [
       "Intercept       65.953124\n",
       "Pop[T.other]    -1.015437\n",
       "taill            0.749967\n",
       "dtype: float64"
      ]
     },
     "execution_count": 149,
     "metadata": {},
     "output_type": "execute_result"
    }
   ],
   "source": [
    "MLRa = smf.ols(formula='hdlngth ~ taill + Pop', data=training_data).fit()\n",
    "\n",
    "MLRa.summary2()\n",
    "\n",
    "MLRa.params"
   ]
  },
  {
   "cell_type": "markdown",
   "metadata": {},
   "source": [
    "    & for MLR.predict, you use prediction = MLR.predict(training_data[['x1', 'x2']])\n"
   ]
  },
  {
   "cell_type": "code",
   "execution_count": null,
   "metadata": {},
   "outputs": [],
   "source": [
    "MLRaPred = MLRa.predict(training_data[['taill', 'Pop']])\n",
    "\n",
    "MLRaPredDF = pd.DataFrame({'Predicted hdlngth': MLRaPred, 'Actual hdlngth: ':testing_data['hdlngth'], 'Tail length: ': testing_data['taill'], 'Population: ': testing_data['Pop']})\n",
    "\n",
    "MLRaPredDF.dropna()"
   ]
  },
  {
   "cell_type": "code",
   "execution_count": 165,
   "metadata": {},
   "outputs": [
    {
     "name": "stdout",
     "output_type": "stream",
     "text": [
      "Average Error:  -0.903779208762815 \t Mean Squared Error:  8.75044983068481\n"
     ]
    }
   ],
   "source": [
    "me  =  (testing_data['hdlngth'] - MLRaPred.dropna()  ).mean()\n",
    "mse = ((testing_data['hdlngth'] - MLRaPred.dropna()) ** 2).mean()\n",
    "\n",
    "print(\"Average Error: \", me, \"\\t Mean Squared Error: \", mse)"
   ]
  },
  {
   "cell_type": "markdown",
   "metadata": {},
   "source": [
    "### **Another Multi Linear Regression:**\n",
    "\n",
    "this time with a few numerical pieces of data"
   ]
  },
  {
   "cell_type": "code",
   "execution_count": 167,
   "metadata": {},
   "outputs": [
    {
     "data": {
      "text/plain": [
       "Index(['rownames', 'case', 'site', 'Pop', 'sex', 'age', 'hdlngth', 'skullw',\n",
       "       'totlngth', 'taill', 'footlgth', 'earconch', 'eye', 'chest', 'belly'],\n",
       "      dtype='object')"
      ]
     },
     "execution_count": 167,
     "metadata": {},
     "output_type": "execute_result"
    }
   ],
   "source": [
    "training_data.columns"
   ]
  },
  {
   "cell_type": "code",
   "execution_count": 183,
   "metadata": {},
   "outputs": [
    {
     "data": {
      "text/plain": [
       "Intercept    37.549610\n",
       "taill        -0.111452\n",
       "skullw        0.433090\n",
       "age           0.181916\n",
       "totlngth      0.384712\n",
       "dtype: float64"
      ]
     },
     "execution_count": 183,
     "metadata": {},
     "output_type": "execute_result"
    }
   ],
   "source": [
    "MLRb = smf.ols(formula='hdlngth ~ taill + skullw + age + totlngth', data=training_data).fit()\n",
    "\n",
    "# MLRb.summary2()\n",
    "MLRb.params\n"
   ]
  },
  {
   "cell_type": "code",
   "execution_count": null,
   "metadata": {},
   "outputs": [],
   "source": [
    "MLRbPred = MLRb.predict(training_data[['taill', 'skullw', 'age', 'totlngth']])\n",
    "\n",
    "MLRbPredDF = pd.DataFrame({'Predicted hdlngth': MLRbPred, 'Actual hdlngth: ':testing_data['hdlngth'], 'Tail length: ': testing_data['taill'], 'Skull width: ': testing_data['skullw'], 'Age: ': testing_data['age'], 'Total Length: ': testing_data['totlngth']})\n",
    "\n",
    "MLRbPredDF.dropna()"
   ]
  },
  {
   "cell_type": "code",
   "execution_count": 173,
   "metadata": {},
   "outputs": [
    {
     "name": "stdout",
     "output_type": "stream",
     "text": [
      "Average Error:  -0.11947603887451054 \t Mean Squared Error:  3.104137032958381\n"
     ]
    }
   ],
   "source": [
    "MLRbPredDF.dropna()\n",
    "\n",
    "me  =  (testing_data['hdlngth'] - MLRbPred.dropna()  ).mean()\n",
    "mse = ((testing_data['hdlngth'] - MLRbPred.dropna()) ** 2).mean()\n",
    "\n",
    "print(\"Average Error: \", me, \"\\t Mean Squared Error: \", mse)"
   ]
  },
  {
   "cell_type": "markdown",
   "metadata": {},
   "source": [
    "### **Yet Another Multi Linear Regression:**\n",
    "\n",
    "this time with 2 categorical pieces of data"
   ]
  },
  {
   "cell_type": "code",
   "execution_count": 184,
   "metadata": {},
   "outputs": [
    {
     "data": {
      "text/plain": [
       "Intercept       93.021629\n",
       "Pop[T.other]    -0.813142\n",
       "sex[T.m]         0.195203\n",
       "dtype: float64"
      ]
     },
     "execution_count": 184,
     "metadata": {},
     "output_type": "execute_result"
    }
   ],
   "source": [
    "MLRc = smf.ols(formula='hdlngth ~ Pop + sex', data=training_data).fit()\n",
    "\n",
    "# MLRc.summary2()\n",
    "MLRc.params"
   ]
  },
  {
   "cell_type": "code",
   "execution_count": null,
   "metadata": {},
   "outputs": [],
   "source": [
    "MLRcPred = MLRc.predict(training_data[['Pop', 'sex']])\n",
    "\n",
    "MLRcPredDF = pd.DataFrame({'Predicted hdlngth': MLRcPred, 'Actual hdlngth: ':testing_data['hdlngth'], 'Population: ': testing_data['Pop'], 'Sex: ': testing_data['sex']})\n",
    "\n",
    "MLRcPredDF.dropna()"
   ]
  },
  {
   "cell_type": "code",
   "execution_count": 178,
   "metadata": {},
   "outputs": [
    {
     "name": "stdout",
     "output_type": "stream",
     "text": [
      "Average Error:  -0.21387345741589484 \t Mean Squared Error:  10.596854442080964\n"
     ]
    }
   ],
   "source": [
    "MLRcPredDF.dropna()\n",
    "\n",
    "me  =  (testing_data['hdlngth'] - MLRcPred.dropna()  ).mean()\n",
    "mse = ((testing_data['hdlngth'] - MLRcPred.dropna()) ** 2).mean()\n",
    "\n",
    "print(\"Average Error: \", me, \"\\t Mean Squared Error: \", mse)"
   ]
  },
  {
   "cell_type": "markdown",
   "metadata": {},
   "source": [
    "### **Final Multi Linear Regression:**\n",
    "\n",
    "this time with all of the data"
   ]
  },
  {
   "cell_type": "code",
   "execution_count": 186,
   "metadata": {},
   "outputs": [
    {
     "data": {
      "text/plain": [
       "Intercept       35.286656\n",
       "Pop[T.other]     0.421248\n",
       "sex[T.m]         1.178783\n",
       "taill           -0.192602\n",
       "skullw           0.391927\n",
       "age              0.248055\n",
       "totlngth         0.458634\n",
       "dtype: float64"
      ]
     },
     "execution_count": 186,
     "metadata": {},
     "output_type": "execute_result"
    }
   ],
   "source": [
    "MLRd = smf.ols(formula='hdlngth ~  taill + skullw + age + totlngth + Pop + sex', data=training_data).fit()\n",
    "\n",
    "# MLRd.summary2()\n",
    "MLRd.params"
   ]
  },
  {
   "cell_type": "code",
   "execution_count": null,
   "metadata": {},
   "outputs": [],
   "source": [
    "MLRdPred = MLRd.predict(training_data[[ 'taill', 'skullw', 'age', 'totlngth', 'Pop', 'sex']])\n",
    "\n",
    "MLRdPredDF = pd.DataFrame({'Predicted hdlngth': MLRdPred, 'Actual hdlngth: ':testing_data['hdlngth'], 'Population: ': testing_data['Pop'], 'Sex: ': testing_data['sex'], 'Tail length: ': testing_data['taill'], 'Skull width: ': testing_data['skullw'], 'Age: ': testing_data['age'], 'Total Length: ': testing_data['totlngth']})\n",
    "\n",
    "MLRdPredDF.dropna()"
   ]
  },
  {
   "cell_type": "code",
   "execution_count": 188,
   "metadata": {},
   "outputs": [
    {
     "name": "stdout",
     "output_type": "stream",
     "text": [
      "Average Error:  -0.11730154813508875 \t Mean Squared Error:  2.5332612970769053\n"
     ]
    }
   ],
   "source": [
    "MLRdPredDF.dropna()\n",
    "\n",
    "me  =  (testing_data['hdlngth'] - MLRdPred.dropna()  ).mean()\n",
    "mse = ((testing_data['hdlngth'] - MLRdPred.dropna()) ** 2).mean()\n",
    "\n",
    "print(\"Average Error: \", me, \"\\t Mean Squared Error: \", mse)"
   ]
  },
  {
   "cell_type": "markdown",
   "metadata": {},
   "source": [
    "### **Next Notebook: KNN regression & classification**"
   ]
  }
 ],
 "metadata": {
  "kernelspec": {
   "display_name": "Python 3",
   "language": "python",
   "name": "python3"
  },
  "language_info": {
   "codemirror_mode": {
    "name": "ipython",
    "version": 3
   },
   "file_extension": ".py",
   "mimetype": "text/x-python",
   "name": "python",
   "nbconvert_exporter": "python",
   "pygments_lexer": "ipython3",
   "version": "3.12.1"
  }
 },
 "nbformat": 4,
 "nbformat_minor": 2
}
