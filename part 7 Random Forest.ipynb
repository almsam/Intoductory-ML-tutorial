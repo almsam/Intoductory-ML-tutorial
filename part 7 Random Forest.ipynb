{
 "cells": [
  {
   "cell_type": "code",
   "execution_count": null,
   "metadata": {},
   "outputs": [],
   "source": [
    "# **DATA 311 UBCO, Random Forests implemented in Python**\n",
    "\n",
    "## **Assignment 3, CART:**\n",
    "\n",
    "### **Random Forests Implementation:**"
   ]
  },
  {
   "cell_type": "code",
   "execution_count": null,
   "metadata": {},
   "outputs": [],
   "source": [
    "##decleration & data first as always\n",
    "\n",
    "import pandas as pd\n",
    "import numpy as np\n",
    "import seaborn as sns\n",
    "import matplotlib as plt\n",
    "import matplotlib.pyplot as plt\n",
    "import statsmodels.api as sm\n",
    "# import statsmodels.formula.api as smf\n",
    "# from sklearn.neighbors import KNeighborsRegressor\n",
    "# from sklearn.neighbors import KNeighborsClassifier\n",
    "# from sklearn.model_selection import GridSearchCV\n",
    "# from sklearn.discriminant_analysis import LinearDiscriminantAnalysis, QuadraticDiscriminantAnalysis\n",
    "# from sklearn.metrics import confusion_matrix\n",
    "# from sklearn.metrics import log_loss\n",
    "# from sklearn.tree import DecisionTreeRegressor\n",
    "# from sklearn.tree import plot_tree\n",
    "\n",
    "df = pd.read_csv('datasalaries.csv')\n",
    "df.head(10)"
   ]
  }
 ],
 "metadata": {
  "language_info": {
   "name": "python"
  }
 },
 "nbformat": 4,
 "nbformat_minor": 2
}
