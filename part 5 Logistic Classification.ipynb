{
 "cells": [
  {
   "cell_type": "markdown",
   "metadata": {},
   "source": [
    "# **DATA 311 UBCO, Logistic Regression implemented in Python**\n",
    "\n",
    "## **Assignment 2, Logistic Classification:**\n",
    "\n",
    "### **Logistic Model Implementation:**"
   ]
  }
 ],
 "metadata": {
  "language_info": {
   "name": "python"
  }
 },
 "nbformat": 4,
 "nbformat_minor": 2
}
