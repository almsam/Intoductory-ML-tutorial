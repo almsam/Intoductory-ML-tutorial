{
 "cells": [
  {
   "cell_type": "markdown",
   "metadata": {},
   "source": [
    "# **DATA 311 UBCO, Logistic Regression implemented in Python**\n",
    "\n",
    "## **Assignment 2, Logistic Classification:**\n",
    "\n",
    "### **Logistic Model Implementation:**"
   ]
  },
  {
   "cell_type": "code",
   "execution_count": 83,
   "metadata": {},
   "outputs": [
    {
     "data": {
      "text/html": [
       "<div>\n",
       "<style scoped>\n",
       "    .dataframe tbody tr th:only-of-type {\n",
       "        vertical-align: middle;\n",
       "    }\n",
       "\n",
       "    .dataframe tbody tr th {\n",
       "        vertical-align: top;\n",
       "    }\n",
       "\n",
       "    .dataframe thead th {\n",
       "        text-align: right;\n",
       "    }\n",
       "</style>\n",
       "<table border=\"1\" class=\"dataframe\">\n",
       "  <thead>\n",
       "    <tr style=\"text-align: right;\">\n",
       "      <th></th>\n",
       "      <th>ID</th>\n",
       "      <th>STUDYYEAR</th>\n",
       "      <th>MYOPIC</th>\n",
       "      <th>AGE</th>\n",
       "      <th>GENDER</th>\n",
       "      <th>SPHEQ</th>\n",
       "      <th>AL</th>\n",
       "      <th>ACD</th>\n",
       "      <th>LT</th>\n",
       "      <th>VCD</th>\n",
       "      <th>SPORTHR</th>\n",
       "      <th>READHR</th>\n",
       "      <th>COMPHR</th>\n",
       "      <th>STUDYHR</th>\n",
       "      <th>TVHR</th>\n",
       "      <th>DIOPTERHR</th>\n",
       "      <th>MOMMY</th>\n",
       "      <th>DADMY</th>\n",
       "    </tr>\n",
       "  </thead>\n",
       "  <tbody>\n",
       "    <tr>\n",
       "      <th>0</th>\n",
       "      <td>1</td>\n",
       "      <td>1992</td>\n",
       "      <td>1</td>\n",
       "      <td>6</td>\n",
       "      <td>1</td>\n",
       "      <td>-0.052</td>\n",
       "      <td>21.89</td>\n",
       "      <td>3.690</td>\n",
       "      <td>3.498</td>\n",
       "      <td>14.70</td>\n",
       "      <td>45</td>\n",
       "      <td>8</td>\n",
       "      <td>0</td>\n",
       "      <td>0</td>\n",
       "      <td>10</td>\n",
       "      <td>34</td>\n",
       "      <td>1</td>\n",
       "      <td>1</td>\n",
       "    </tr>\n",
       "    <tr>\n",
       "      <th>1</th>\n",
       "      <td>2</td>\n",
       "      <td>1995</td>\n",
       "      <td>0</td>\n",
       "      <td>6</td>\n",
       "      <td>1</td>\n",
       "      <td>0.608</td>\n",
       "      <td>22.38</td>\n",
       "      <td>3.702</td>\n",
       "      <td>3.392</td>\n",
       "      <td>15.29</td>\n",
       "      <td>4</td>\n",
       "      <td>0</td>\n",
       "      <td>1</td>\n",
       "      <td>1</td>\n",
       "      <td>7</td>\n",
       "      <td>12</td>\n",
       "      <td>1</td>\n",
       "      <td>1</td>\n",
       "    </tr>\n",
       "    <tr>\n",
       "      <th>2</th>\n",
       "      <td>3</td>\n",
       "      <td>1991</td>\n",
       "      <td>0</td>\n",
       "      <td>6</td>\n",
       "      <td>1</td>\n",
       "      <td>1.179</td>\n",
       "      <td>22.49</td>\n",
       "      <td>3.462</td>\n",
       "      <td>3.514</td>\n",
       "      <td>15.52</td>\n",
       "      <td>14</td>\n",
       "      <td>0</td>\n",
       "      <td>2</td>\n",
       "      <td>0</td>\n",
       "      <td>10</td>\n",
       "      <td>14</td>\n",
       "      <td>0</td>\n",
       "      <td>0</td>\n",
       "    </tr>\n",
       "    <tr>\n",
       "      <th>3</th>\n",
       "      <td>4</td>\n",
       "      <td>1990</td>\n",
       "      <td>1</td>\n",
       "      <td>6</td>\n",
       "      <td>1</td>\n",
       "      <td>0.525</td>\n",
       "      <td>22.20</td>\n",
       "      <td>3.862</td>\n",
       "      <td>3.612</td>\n",
       "      <td>14.73</td>\n",
       "      <td>18</td>\n",
       "      <td>11</td>\n",
       "      <td>0</td>\n",
       "      <td>0</td>\n",
       "      <td>4</td>\n",
       "      <td>37</td>\n",
       "      <td>0</td>\n",
       "      <td>1</td>\n",
       "    </tr>\n",
       "    <tr>\n",
       "      <th>4</th>\n",
       "      <td>5</td>\n",
       "      <td>1995</td>\n",
       "      <td>0</td>\n",
       "      <td>5</td>\n",
       "      <td>0</td>\n",
       "      <td>0.697</td>\n",
       "      <td>23.29</td>\n",
       "      <td>3.676</td>\n",
       "      <td>3.454</td>\n",
       "      <td>16.16</td>\n",
       "      <td>14</td>\n",
       "      <td>0</td>\n",
       "      <td>0</td>\n",
       "      <td>0</td>\n",
       "      <td>4</td>\n",
       "      <td>4</td>\n",
       "      <td>1</td>\n",
       "      <td>0</td>\n",
       "    </tr>\n",
       "    <tr>\n",
       "      <th>5</th>\n",
       "      <td>6</td>\n",
       "      <td>1995</td>\n",
       "      <td>0</td>\n",
       "      <td>6</td>\n",
       "      <td>0</td>\n",
       "      <td>1.744</td>\n",
       "      <td>22.14</td>\n",
       "      <td>3.224</td>\n",
       "      <td>3.556</td>\n",
       "      <td>15.36</td>\n",
       "      <td>10</td>\n",
       "      <td>6</td>\n",
       "      <td>2</td>\n",
       "      <td>1</td>\n",
       "      <td>19</td>\n",
       "      <td>44</td>\n",
       "      <td>0</td>\n",
       "      <td>1</td>\n",
       "    </tr>\n",
       "    <tr>\n",
       "      <th>6</th>\n",
       "      <td>7</td>\n",
       "      <td>1993</td>\n",
       "      <td>0</td>\n",
       "      <td>6</td>\n",
       "      <td>1</td>\n",
       "      <td>0.683</td>\n",
       "      <td>22.33</td>\n",
       "      <td>3.186</td>\n",
       "      <td>3.654</td>\n",
       "      <td>15.49</td>\n",
       "      <td>12</td>\n",
       "      <td>7</td>\n",
       "      <td>2</td>\n",
       "      <td>1</td>\n",
       "      <td>8</td>\n",
       "      <td>36</td>\n",
       "      <td>0</td>\n",
       "      <td>1</td>\n",
       "    </tr>\n",
       "    <tr>\n",
       "      <th>7</th>\n",
       "      <td>8</td>\n",
       "      <td>1991</td>\n",
       "      <td>0</td>\n",
       "      <td>6</td>\n",
       "      <td>1</td>\n",
       "      <td>1.272</td>\n",
       "      <td>22.39</td>\n",
       "      <td>3.732</td>\n",
       "      <td>3.584</td>\n",
       "      <td>15.08</td>\n",
       "      <td>12</td>\n",
       "      <td>0</td>\n",
       "      <td>0</td>\n",
       "      <td>0</td>\n",
       "      <td>8</td>\n",
       "      <td>8</td>\n",
       "      <td>0</td>\n",
       "      <td>0</td>\n",
       "    </tr>\n",
       "    <tr>\n",
       "      <th>8</th>\n",
       "      <td>9</td>\n",
       "      <td>1991</td>\n",
       "      <td>0</td>\n",
       "      <td>7</td>\n",
       "      <td>0</td>\n",
       "      <td>1.396</td>\n",
       "      <td>22.62</td>\n",
       "      <td>3.464</td>\n",
       "      <td>3.408</td>\n",
       "      <td>15.74</td>\n",
       "      <td>4</td>\n",
       "      <td>0</td>\n",
       "      <td>3</td>\n",
       "      <td>1</td>\n",
       "      <td>3</td>\n",
       "      <td>12</td>\n",
       "      <td>0</td>\n",
       "      <td>0</td>\n",
       "    </tr>\n",
       "    <tr>\n",
       "      <th>9</th>\n",
       "      <td>10</td>\n",
       "      <td>1991</td>\n",
       "      <td>0</td>\n",
       "      <td>6</td>\n",
       "      <td>1</td>\n",
       "      <td>0.972</td>\n",
       "      <td>22.74</td>\n",
       "      <td>3.504</td>\n",
       "      <td>3.696</td>\n",
       "      <td>15.54</td>\n",
       "      <td>30</td>\n",
       "      <td>5</td>\n",
       "      <td>1</td>\n",
       "      <td>0</td>\n",
       "      <td>10</td>\n",
       "      <td>27</td>\n",
       "      <td>0</td>\n",
       "      <td>0</td>\n",
       "    </tr>\n",
       "  </tbody>\n",
       "</table>\n",
       "</div>"
      ],
      "text/plain": [
       "   ID  STUDYYEAR  MYOPIC  AGE  GENDER  SPHEQ     AL    ACD     LT    VCD  \\\n",
       "0   1       1992       1    6       1 -0.052  21.89  3.690  3.498  14.70   \n",
       "1   2       1995       0    6       1  0.608  22.38  3.702  3.392  15.29   \n",
       "2   3       1991       0    6       1  1.179  22.49  3.462  3.514  15.52   \n",
       "3   4       1990       1    6       1  0.525  22.20  3.862  3.612  14.73   \n",
       "4   5       1995       0    5       0  0.697  23.29  3.676  3.454  16.16   \n",
       "5   6       1995       0    6       0  1.744  22.14  3.224  3.556  15.36   \n",
       "6   7       1993       0    6       1  0.683  22.33  3.186  3.654  15.49   \n",
       "7   8       1991       0    6       1  1.272  22.39  3.732  3.584  15.08   \n",
       "8   9       1991       0    7       0  1.396  22.62  3.464  3.408  15.74   \n",
       "9  10       1991       0    6       1  0.972  22.74  3.504  3.696  15.54   \n",
       "\n",
       "   SPORTHR  READHR  COMPHR  STUDYHR  TVHR  DIOPTERHR  MOMMY  DADMY  \n",
       "0       45       8       0        0    10         34      1      1  \n",
       "1        4       0       1        1     7         12      1      1  \n",
       "2       14       0       2        0    10         14      0      0  \n",
       "3       18      11       0        0     4         37      0      1  \n",
       "4       14       0       0        0     4          4      1      0  \n",
       "5       10       6       2        1    19         44      0      1  \n",
       "6       12       7       2        1     8         36      0      1  \n",
       "7       12       0       0        0     8          8      0      0  \n",
       "8        4       0       3        1     3         12      0      0  \n",
       "9       30       5       1        0    10         27      0      0  "
      ]
     },
     "execution_count": 83,
     "metadata": {},
     "output_type": "execute_result"
    }
   ],
   "source": [
    "##decleration & data first as always\n",
    "\n",
    "import pandas as pd\n",
    "import numpy as np\n",
    "import seaborn as sns\n",
    "import matplotlib as plt\n",
    "import matplotlib.pyplot as plt\n",
    "import statsmodels.api as sm\n",
    "# import statsmodels.formula.api as smf\n",
    "# from sklearn.neighbors import KNeighborsRegressor\n",
    "# from sklearn.neighbors import KNeighborsClassifier\n",
    "# from sklearn.model_selection import GridSearchCV\n",
    "# from sklearn.discriminant_analysis import LinearDiscriminantAnalysis, QuadraticDiscriminantAnalysis\n",
    "from sklearn.metrics import confusion_matrix\n",
    "from sklearn.metrics import log_loss\n",
    "\n",
    "df = pd.read_csv('myopiacomma.csv')\n",
    "df.head(10)"
   ]
  },
  {
   "cell_type": "code",
   "execution_count": null,
   "metadata": {},
   "outputs": [],
   "source": [
    "df.describe()"
   ]
  },
  {
   "cell_type": "code",
   "execution_count": null,
   "metadata": {},
   "outputs": [],
   "source": [
    "df = df.dropna()\n",
    "\n",
    "df.describe()"
   ]
  },
  {
   "cell_type": "code",
   "execution_count": 85,
   "metadata": {},
   "outputs": [
    {
     "data": {
      "text/plain": [
       "Index(['ID', 'STUDYYEAR', 'MYOPIC', 'AGE', 'GENDER', 'SPHEQ', 'AL', 'ACD',\n",
       "       'LT', 'VCD', 'SPORTHR', 'READHR', 'COMPHR', 'STUDYHR', 'TVHR',\n",
       "       'DIOPTERHR', 'MOMMY', 'DADMY', 'PARENTMY'],\n",
       "      dtype='object')"
      ]
     },
     "execution_count": 85,
     "metadata": {},
     "output_type": "execute_result"
    }
   ],
   "source": [
    "df['PARENTMY'] = (df['MOMMY'] | df['DADMY']).astype(int)\n",
    "\n",
    "# df.head(10)\n",
    "\n",
    "df.columns"
   ]
  },
  {
   "cell_type": "markdown",
   "metadata": {},
   "source": [
    "### **Split into a training & testing as always:**"
   ]
  },
  {
   "cell_type": "code",
   "execution_count": 86,
   "metadata": {},
   "outputs": [
    {
     "data": {
      "text/plain": [
       "Index(['ID', 'STUDYYEAR', 'MYOPIC', 'AGE', 'GENDER', 'SPHEQ', 'AL', 'ACD',\n",
       "       'LT', 'VCD', 'SPORTHR', 'READHR', 'COMPHR', 'STUDYHR', 'TVHR',\n",
       "       'DIOPTERHR', 'MOMMY', 'DADMY', 'PARENTMY'],\n",
       "      dtype='object')"
      ]
     },
     "execution_count": 86,
     "metadata": {},
     "output_type": "execute_result"
    }
   ],
   "source": [
    "n = df.shape[0]\n",
    "i = np.random.permutation(n)\n",
    "\n",
    "train_size = round(0.6*n)\n",
    "test_size = n - train_size\n",
    "\n",
    "train = i[:train_size]\n",
    "test = i[:test_size]\n",
    "\n",
    "training_data = df.iloc[train]\n",
    "testing_data = df.iloc[test]\n",
    "\n",
    "training_data.columns"
   ]
  },
  {
   "cell_type": "markdown",
   "metadata": {},
   "source": [
    "### **Now we fit the Logistic Regression:**\n",
    "\n",
    "to do this think back to sm.OLS from part 1\n",
    "\n",
    "    A regular Linear Model is made with sm.OLS(y, sm.add_constant(x)).fit()\n",
    "    & the Logit Model we want here is made by sm.OLS(y, sm.add_constant(x)).fit()"
   ]
  },
  {
   "cell_type": "code",
   "execution_count": 87,
   "metadata": {},
   "outputs": [
    {
     "name": "stdout",
     "output_type": "stream",
     "text": [
      "Optimization terminated successfully.\n",
      "         Current function value: 0.245239\n",
      "         Iterations 8\n"
     ]
    }
   ],
   "source": [
    "x_train_1 = training_data[['SPHEQ', 'AL', 'ACD']]\n",
    "y_train_1 = training_data['MYOPIC']\n",
    "x_test_1 =  testing_data[['MYOPIC', 'SPHEQ', 'AL', 'ACD']]\n",
    "y_test_1 =  testing_data['MYOPIC']\n",
    "\n",
    "LogModel_1 = sm.Logit(y_train_1, sm.add_constant(x_train_1)).fit()"
   ]
  },
  {
   "cell_type": "code",
   "execution_count": 88,
   "metadata": {},
   "outputs": [
    {
     "name": "stdout",
     "output_type": "stream",
     "text": [
      "Optimization terminated successfully.\n",
      "         Current function value: 0.231199\n",
      "         Iterations 9\n"
     ]
    }
   ],
   "source": [
    "x_train_2 = training_data[['SPHEQ', 'AL', 'ACD', 'PARENTMY']]\n",
    "y_train_2 = training_data['MYOPIC']\n",
    "x_test_2 =  testing_data[['MYOPIC', 'SPHEQ', 'AL', 'ACD', 'PARENTMY']]\n",
    "y_test_2 =  testing_data['MYOPIC']\n",
    "\n",
    "LogModel_2 = sm.Logit(y_train_2, sm.add_constant(x_train_2)).fit()"
   ]
  },
  {
   "cell_type": "code",
   "execution_count": 89,
   "metadata": {},
   "outputs": [
    {
     "name": "stdout",
     "output_type": "stream",
     "text": [
      "Optimization terminated successfully.\n",
      "         Current function value: 0.228954\n",
      "         Iterations 9\n"
     ]
    }
   ],
   "source": [
    "x_train_3 = training_data[['SPHEQ', 'AL', 'ACD', 'PARENTMY', 'READHR', 'COMPHR', 'TVHR']]\n",
    "y_train_3 = training_data['MYOPIC']\n",
    "x_test_3 =  testing_data[['MYOPIC', 'SPHEQ', 'AL', 'ACD', 'PARENTMY', 'READHR', 'COMPHR', 'TVHR']]\n",
    "y_test_3 =  testing_data['MYOPIC']\n",
    "\n",
    "LogModel_3 = sm.Logit(y_train_3, sm.add_constant(x_train_3)).fit()"
   ]
  },
  {
   "cell_type": "markdown",
   "metadata": {},
   "source": [
    "### **Things to do with the Logistic Regression Model Objects:**\n",
    "\n",
    "    use LogitModel.summary() or LogitModel.summary2() for a summary"
   ]
  },
  {
   "cell_type": "code",
   "execution_count": 90,
   "metadata": {},
   "outputs": [
    {
     "data": {
      "text/html": [
       "<table class=\"simpletable\">\n",
       "<tr>\n",
       "        <td>Model:</td>              <td>Logit</td>           <td>Method:</td>          <td>MLE</td>   \n",
       "</tr>\n",
       "<tr>\n",
       "  <td>Dependent Variable:</td>      <td>MYOPIC</td>      <td>Pseudo R-squared:</td>    <td>0.306</td>  \n",
       "</tr>\n",
       "<tr>\n",
       "         <td>Date:</td>        <td>2024-01-01 17:33</td>       <td>AIC:</td>         <td>189.9670</td> \n",
       "</tr>\n",
       "<tr>\n",
       "   <td>No. Observations:</td>         <td>371</td>             <td>BIC:</td>         <td>205.6318</td> \n",
       "</tr>\n",
       "<tr>\n",
       "       <td>Df Model:</td>              <td>3</td>         <td>Log-Likelihood:</td>    <td>-90.984</td> \n",
       "</tr>\n",
       "<tr>\n",
       "     <td>Df Residuals:</td>           <td>367</td>           <td>LL-Null:</td>        <td>-131.03</td> \n",
       "</tr>\n",
       "<tr>\n",
       "      <td>Converged:</td>           <td>1.0000</td>        <td>LLR p-value:</td>    <td>2.9436e-17</td>\n",
       "</tr>\n",
       "<tr>\n",
       "    <td>No. Iterations:</td>        <td>8.0000</td>           <td>Scale:</td>         <td>1.0000</td>  \n",
       "</tr>\n",
       "</table>\n",
       "<table class=\"simpletable\">\n",
       "<tr>\n",
       "    <td></td>     <th>Coef.</th>  <th>Std.Err.</th>    <th>z</th>     <th>P>|z|</th> <th>[0.025</th>  <th>0.975]</th> \n",
       "</tr>\n",
       "<tr>\n",
       "  <th>const</th> <td>12.4642</td>  <td>6.8010</td>  <td>1.8327</td>  <td>0.0668</td> <td>-0.8655</td> <td>25.7939</td>\n",
       "</tr>\n",
       "<tr>\n",
       "  <th>SPHEQ</th> <td>-3.9912</td>  <td>0.5742</td>  <td>-6.9507</td> <td>0.0000</td> <td>-5.1167</td> <td>-2.8658</td>\n",
       "</tr>\n",
       "<tr>\n",
       "  <th>AL</th>    <td>-0.6272</td>  <td>0.3242</td>  <td>-1.9347</td> <td>0.0530</td> <td>-1.2626</td> <td>0.0082</td> \n",
       "</tr>\n",
       "<tr>\n",
       "  <th>ACD</th>   <td>0.4503</td>   <td>1.0072</td>  <td>0.4471</td>  <td>0.6548</td> <td>-1.5238</td> <td>2.4244</td> \n",
       "</tr>\n",
       "</table><br/>\n"
      ],
      "text/latex": [
       "\\begin{table}\n",
       "\\caption{Results: Logit}\n",
       "\\label{}\n",
       "\\begin{center}\n",
       "\\begin{tabular}{llll}\n",
       "\\hline\n",
       "Model:              & Logit            & Method:           & MLE         \\\\\n",
       "Dependent Variable: & MYOPIC           & Pseudo R-squared: & 0.306       \\\\\n",
       "Date:               & 2024-01-01 17:33 & AIC:              & 189.9670    \\\\\n",
       "No. Observations:   & 371              & BIC:              & 205.6318    \\\\\n",
       "Df Model:           & 3                & Log-Likelihood:   & -90.984     \\\\\n",
       "Df Residuals:       & 367              & LL-Null:          & -131.03     \\\\\n",
       "Converged:          & 1.0000           & LLR p-value:      & 2.9436e-17  \\\\\n",
       "No. Iterations:     & 8.0000           & Scale:            & 1.0000      \\\\\n",
       "\\hline\n",
       "\\end{tabular}\n",
       "\\end{center}\n",
       "\n",
       "\\begin{center}\n",
       "\\begin{tabular}{lrrrrrr}\n",
       "\\hline\n",
       "      &   Coef. & Std.Err. &       z & P$> |$z$|$ &  [0.025 &  0.975]  \\\\\n",
       "\\hline\n",
       "const & 12.4642 &   6.8010 &  1.8327 &      0.0668 & -0.8655 & 25.7939  \\\\\n",
       "SPHEQ & -3.9912 &   0.5742 & -6.9507 &      0.0000 & -5.1167 & -2.8658  \\\\\n",
       "AL    & -0.6272 &   0.3242 & -1.9347 &      0.0530 & -1.2626 &  0.0082  \\\\\n",
       "ACD   &  0.4503 &   1.0072 &  0.4471 &      0.6548 & -1.5238 &  2.4244  \\\\\n",
       "\\hline\n",
       "\\end{tabular}\n",
       "\\end{center}\n",
       "\\end{table}\n",
       "\\bigskip\n"
      ],
      "text/plain": [
       "<class 'statsmodels.iolib.summary2.Summary'>\n",
       "\"\"\"\n",
       "                         Results: Logit\n",
       "=================================================================\n",
       "Model:              Logit            Method:           MLE       \n",
       "Dependent Variable: MYOPIC           Pseudo R-squared: 0.306     \n",
       "Date:               2024-01-01 17:33 AIC:              189.9670  \n",
       "No. Observations:   371              BIC:              205.6318  \n",
       "Df Model:           3                Log-Likelihood:   -90.984   \n",
       "Df Residuals:       367              LL-Null:          -131.03   \n",
       "Converged:          1.0000           LLR p-value:      2.9436e-17\n",
       "No. Iterations:     8.0000           Scale:            1.0000    \n",
       "-------------------------------------------------------------------\n",
       "           Coef.    Std.Err.      z      P>|z|     [0.025    0.975]\n",
       "-------------------------------------------------------------------\n",
       "const     12.4642     6.8010    1.8327   0.0668   -0.8655   25.7939\n",
       "SPHEQ     -3.9912     0.5742   -6.9507   0.0000   -5.1167   -2.8658\n",
       "AL        -0.6272     0.3242   -1.9347   0.0530   -1.2626    0.0082\n",
       "ACD        0.4503     1.0072    0.4471   0.6548   -1.5238    2.4244\n",
       "=================================================================\n",
       "\n",
       "\"\"\""
      ]
     },
     "execution_count": 90,
     "metadata": {},
     "output_type": "execute_result"
    }
   ],
   "source": [
    "LogModel_1.summary2()"
   ]
  },
  {
   "cell_type": "markdown",
   "metadata": {},
   "source": [
    "    or use LogitModel.params to gather the coefficients directly"
   ]
  },
  {
   "cell_type": "code",
   "execution_count": 91,
   "metadata": {},
   "outputs": [
    {
     "name": "stdout",
     "output_type": "stream",
     "text": [
      "const    12.464193\n",
      "SPHEQ    -3.991214\n",
      "AL       -0.627187\n",
      "ACD       0.450284\n",
      "dtype: float64 \n",
      "\n",
      " const       10.456819\n",
      "SPHEQ       -3.856998\n",
      "AL          -0.637601\n",
      "ACD          0.462163\n",
      "PARENTMY     2.399984\n",
      "dtype: float64 \n",
      "\n",
      " const       10.960577\n",
      "SPHEQ       -3.947797\n",
      "AL          -0.622817\n",
      "ACD          0.357377\n",
      "PARENTMY     2.386583\n",
      "READHR      -0.014627\n",
      "COMPHR       0.020626\n",
      "TVHR        -0.047219\n",
      "dtype: float64\n"
     ]
    }
   ],
   "source": [
    "# LogModel_1.params\n",
    "\n",
    "print(LogModel_1.params, \"\\n\\n\", LogModel_2.params, \"\\n\\n\", LogModel_3.params)"
   ]
  },
  {
   "cell_type": "markdown",
   "metadata": {},
   "source": [
    "### **Time to find the accuracy:**\n",
    "\n",
    "    this time we will use the confusion matrix instead of just an accuracy stat\n",
    "    you do this by first predicting using Predictions = Model.predict(x_test_data)\n",
    "    & after prediction you use ConfusionMatrix = confusion_matrix(y_test_data, Predictions)"
   ]
  },
  {
   "cell_type": "code",
   "execution_count": 92,
   "metadata": {},
   "outputs": [
    {
     "data": {
      "text/plain": [
       "array([[220,   0],\n",
       "       [ 20,   7]], dtype=int64)"
      ]
     },
     "execution_count": 92,
     "metadata": {},
     "output_type": "execute_result"
    }
   ],
   "source": [
    "pred1 = LogModel_1.predict(x_test_1)\n",
    "y1 = (pred1 >= 0.5).astype(int)\n",
    "cm1 = confusion_matrix(y_test_1, y1)\n",
    "cm1"
   ]
  },
  {
   "cell_type": "code",
   "execution_count": 93,
   "metadata": {},
   "outputs": [
    {
     "data": {
      "text/plain": [
       "array([[220,   0],\n",
       "       [ 18,   9]], dtype=int64)"
      ]
     },
     "execution_count": 93,
     "metadata": {},
     "output_type": "execute_result"
    }
   ],
   "source": [
    "pred2 = LogModel_2.predict(x_test_2)\n",
    "y2 = (pred2 >= 0.5).astype(int)\n",
    "cm2 = confusion_matrix(y_test_2, y2)\n",
    "cm2"
   ]
  },
  {
   "cell_type": "code",
   "execution_count": 94,
   "metadata": {},
   "outputs": [
    {
     "data": {
      "text/plain": [
       "array([[220,   0],\n",
       "       [ 19,   8]], dtype=int64)"
      ]
     },
     "execution_count": 94,
     "metadata": {},
     "output_type": "execute_result"
    }
   ],
   "source": [
    "pred3 = LogModel_3.predict(x_test_3)\n",
    "y3 = (pred3 >= 0.5).astype(int)\n",
    "cm3 = confusion_matrix(y_test_3, y3)\n",
    "cm3"
   ]
  },
  {
   "cell_type": "markdown",
   "metadata": {},
   "source": [
    "### **And we plot once more:**"
   ]
  },
  {
   "cell_type": "code",
   "execution_count": 95,
   "metadata": {},
   "outputs": [
    {
     "data": {
      "image/png": "[encoded data removed]",
      "text/plain": [
       "<Figure size 1500x500 with 6 Axes>"
      ]
     },
     "metadata": {},
     "output_type": "display_data"
    }
   ],
   "source": [
    "fig, axes = plt.subplots(1, 3, figsize=(15, 5))\n",
    "\n",
    "sns.heatmap(cm1, annot=True, fmt='d', cmap='Blues', ax=axes[0], xticklabels=['True', 'False'], yticklabels=['True', 'False'])\n",
    "axes[0].set_title('Model 1 - 3 parameters'); axes[0].set_xlabel('Predicted'); axes[0].set_ylabel('Actual')\n",
    "\n",
    "sns.heatmap(cm2, annot=True, fmt='d', cmap='Greens', ax=axes[1], xticklabels=['True', 'False'], yticklabels=['True', 'False'])\n",
    "axes[1].set_title('Model 2 - 4 parameters'); axes[1].set_xlabel('Predicted'); axes[1].set_ylabel('Actual')\n",
    "\n",
    "sns.heatmap(cm3, annot=True, fmt='d', cmap='Reds', ax=axes[2], xticklabels=['True', 'False'], yticklabels=['True', 'False'])\n",
    "axes[2].set_title('Model 3 - 7 parameters'); axes[2].set_xlabel('Predicted'); axes[2].set_ylabel('Actual')\n",
    "\n",
    "fig.suptitle('Comparison of Confusion Matrices')\n",
    "plt.show()\n"
   ]
  },
  {
   "cell_type": "markdown",
   "metadata": {},
   "source": [
    "|                  | Predicted True  | Predicted False |\n",
    "|:---:             |:---:            |:---:            |\n",
    "| **Actual True**  | True Positive   | False Negative  |\n",
    "| **Actual False** | False Positive  | False Positive  |"
   ]
  },
  {
   "cell_type": "markdown",
   "metadata": {},
   "source": [
    "### **Finally, lets find the LogLoss:**"
   ]
  },
  {
   "cell_type": "code",
   "execution_count": 100,
   "metadata": {},
   "outputs": [
    {
     "name": "stdout",
     "output_type": "stream",
     "text": [
      "LogLoss for 3 parameters:  0.17420652441362622 \t\t LogLoss for 4 parameters:  0.1647126082959413 \t\t LogLoss for 7 parameters:  0.16306416222645392\n"
     ]
    }
   ],
   "source": [
    "y_pred_test_1 = LogModel_1.predict(x_test_1); loss_1 = log_loss(y_test_1, y_pred_test_1)\n",
    "y_pred_test_2 = LogModel_2.predict(x_test_2); loss_2 = log_loss(y_test_2, y_pred_test_2)\n",
    "y_pred_test_3 = LogModel_3.predict(x_test_3); loss_3 = log_loss(y_test_3, y_pred_test_3)\n",
    "\n",
    "print(\"LogLoss for 3 parameters: \", loss_1, \"\\t\\t LogLoss for 4 parameters: \", loss_2, \"\\t\\t LogLoss for 7 parameters: \", loss_3)"
   ]
  },
  {
   "cell_type": "markdown",
   "metadata": {},
   "source": [
    "### **Oh don't forget to plot:**"
   ]
  },
  {
   "cell_type": "code",
   "execution_count": 104,
   "metadata": {},
   "outputs": [
    {
     "data": {
      "image/png": "[encoded data removed]",
      "text/plain": [
       "<Figure size 640x480 with 1 Axes>"
      ]
     },
     "metadata": {},
     "output_type": "display_data"
    }
   ],
   "source": [
    "log_losses = [loss_1, loss_2, loss_3]\n",
    "models = ['3 parameters', '4 parameters', '7 parameters']\n",
    "\n",
    "plt.bar(models, log_losses, color=['blue', 'green', 'red'])\n",
    "plt.xlabel('Models'); plt.ylabel('Log Loss'); plt.title('Log Loss of our 3 Models'); plt.show()"
   ]
  },
  {
   "cell_type": "markdown",
   "metadata": {},
   "source": [
    "### **Next Notebooks: CART trees and Random Forests**"
   ]
  }
 ],
 "metadata": {
  "kernelspec": {
   "display_name": "Python 3",
   "language": "python",
   "name": "python3"
  },
  "language_info": {
   "codemirror_mode": {
    "name": "ipython",
    "version": 3
   },
   "file_extension": ".py",
   "mimetype": "text/x-python",
   "name": "python",
   "nbconvert_exporter": "python",
   "pygments_lexer": "ipython3",
   "version": "3.12.1"
  }
 },
 "nbformat": 4,
 "nbformat_minor": 2
}
